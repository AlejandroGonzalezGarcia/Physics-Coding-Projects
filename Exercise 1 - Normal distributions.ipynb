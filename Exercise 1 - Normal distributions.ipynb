{
  "cells": [
    {
      "cell_type": "markdown",
      "metadata": {
        "id": "kbeYlFDC6Ejz"
      },
      "source": [
        "__Alejandro Gonzalez Garcia__\n",
        "<br>\n",
        "Date: Jan. 12, 2021\n",
        "<br>\n",
        "PHYS 2030 W22"
      ]
    },
    {
      "cell_type": "markdown",
      "metadata": {
        "id": "3gbVbIwB6Ej2"
      },
      "source": [
        "# <center><font color=#46769B>Exercise 1: Error propagation via random sampling</font></center>\n",
        "\n",
        "## <font color=#46769B>Introduction:</font>\n",
        "\n",
        "Our goals for this notebook are:\n",
        "- Practice with sampling from normal distributions.\n",
        "- Practice some basics of using `numpy` and `matplotlib.pyplot`.\n",
        "- Learn a new technique for propagation of errors.\n",
        "\n",
        "Required reading:\n",
        "- *Lesson 1: Normal distributions*\n",
        "\n",
        "Guidelines: \n",
        "- You are allowed to use resources such as websites or textbooks if you need help figuring things out. \n",
        "- You are *not allowed* to work with any collaborators on this assignment, including your peers or tutoring services.\n",
        "\n",
        "By submitting this assignment, you acknowledge: \n",
        "- Any code written here is the result of your own work and is written by you.\n",
        "- Any information sources (e.g., websites) used outside of the course material will be *cited* (provide URLs). "
      ]
    },
    {
      "cell_type": "markdown",
      "metadata": {
        "id": "UaWJd25u6Ej3"
      },
      "source": [
        "## <font color=#46769B>Error propagation:</font>\n",
        "\n",
        "In lab courses, it is standard practice to do error propagation. For example, suppose you have two measured quantities $A,B$. That is, you have their mean values $\\langle A \\rangle$, $\\langle B\\rangle$, and their uncertainties $\\Delta A,\\Delta B$. \n",
        "Now suppose you want to calculate the mean and error for a new quantity $C = f(A,B)$ that is a function of $A,B$. What do you do?\n",
        "- Take the mean to be $\\langle C \\rangle = f(\\langle A \\rangle, \\langle B \\rangle)$. But you may wonder: is this an approximation or is it always true? \n",
        "- Calculate the error $\\Delta C$ using the rules for error propagation. How straightforward this is depends on how complex $f$ is (and how well one remembers the rules).\n",
        "\n",
        "Random sampling is another way to approach this problem. There is just one procedure to remember.\n",
        "- Generate random samples for $A$ and $B$. That is, you generate a list of $N$ values for each quantity<font color=red>$^1$</font>\n",
        "$$\\left(A_0, A_1, ..., A_{N-1}\\right) \\, ,  \\qquad \\left(B_0, B_1, ..., B_{N-1}\\right)\\, .$$\n",
        "- For every pair $A_i, B_i$, compute $C_i = f(A_i, B_i)$ to generate samples for $C$:\n",
        "$$\\left(C_0, C_1, ..., C_{N-1}\\right)\\, .$$\n",
        "- Using your samples for $C$, calculate the mean value $\\langle C \\rangle$ and standard deviation for $\\Delta C$.\n",
        "\n",
        "There are two things to keep in mind:\n",
        "- $N$ must be large enough so that your values for $\\langle C \\rangle$ and $\\Delta C$ converge, i.e., you get the same result (up to significant figures) for multiple simulations.\n",
        "- How you sample quantities $A,B$ is up to you. A normal distribution is typically *default* assumption for how to sample, especially if the errors quoted for $A,B$ are *random* or *statitistical* errors.<font color=red>$^2$</font> But you can sample in a different way if you have more information about the problem, or if you want to include systematic errors (we will see an example below).\n",
        "\n",
        "### <font color=#46769B>Footnotes:</font>\n",
        "\n",
        "<font color=red>$^1$</font> Note since Python counting starts at zero, I will follow the same numbering conventions though it looks a bit messier.\n",
        "\n",
        "<font color=red>$^2$</font> *Random* errors are due to the fact that repeated measurements will not give exactly the same results each time, due to unpredictable differences in the measurement setup or observer. This is why one performs multiple measurements and averages over them. For example, you measure a length with a ruler and get ten slightly different numbers each time. In contrast, *systematic* errors are errors that are the same for all measurements. For example, suppose your ruler is of poor quality and all lengths skewed too short by 5\\%.\n"
      ]
    },
    {
      "cell_type": "markdown",
      "metadata": {
        "id": "OePzJuyI6Ej4"
      },
      "source": [
        "## <font color=#46769B>Part 1: Pendulum</font>\n",
        "\n",
        "The standard formula for the oscillation period of a pendulum is\n",
        "$$T = 2\\pi \\sqrt{L/g}$$\n",
        "where $g$ is the gravitational acceleration and $L$ is the length of the pendulum. Suppose we have measured the period and length of the pendulum to be:\n",
        "$$T = 1.835 \\pm 0.005 \\; {\\rm s} \\, , \\qquad L = 0.855 \\pm 0.002 \\; {\\rm m} \\, .$$\n",
        "\n",
        "### <font color=#46769B>Part (1a)</font>\n",
        "Using random sampling for $T$ and $L$, determine $g$, with a sample size of $N=100$.\n",
        "- Assume the errors quoted for $T$ and $L$ are random errors and generate samples using a normal distribution.\n",
        "- Determine both the mean $\\langle g \\rangle$ and uncertainty $\\Delta g$. Write *your own* code for calculating the mean and standard deviations for your samples for $g$ and verify that it agrees with what you get using `numpy.mean` and `numpy.std`.\n",
        "- Plot a histogram for your samples for $g$, choosing a suitable number of histogram bins.\n",
        "\n",
        "### <font color=#46769B>Part (2b)</font>\n",
        "- Repeat part (a) for a larger value of $N$ where your results have converged.\n",
        "- Compare your histogram for $g$ to a normal distribution of mean $\\mu=\\langle g \\rangle$ and standard deviation $\\sigma = \\Delta g$. (Make a plot of the normal distribution on top of the histogram. Be sure to normalize your histogram and choose a suitable number of bins.)"
      ]
    },
    {
      "cell_type": "code",
      "execution_count": 1,
      "metadata": {
        "id": "ZzbAFU016Ej5",
        "outputId": "26785634-bc3a-4b20-d432-7e0dc97c0606",
        "colab": {
          "base_uri": "https://localhost:8080/",
          "height": 352
        }
      },
      "outputs": [
        {
          "output_type": "stream",
          "name": "stdout",
          "text": [
            "sum of g values:  1002.7868460975495\n",
            "mean g is:  10.027868460975496\n",
            "SD of g is:  0.06372490297686664\n",
            "the numpy code gives mean =  10.027868460975498\n",
            "the numpy code gives SD =  0.06372490297686663\n"
          ]
        },
        {
          "output_type": "display_data",
          "data": {
            "image/png": "[encoded data removed]",
            "text/plain": [
              "<Figure size 432x288 with 1 Axes>"
            ]
          },
          "metadata": {
            "needs_background": "light"
          }
        }
      ],
      "source": [
        "# Your answer to exercise 1 here\n",
        "\n",
        "import numpy as np\n",
        "import matplotlib.pyplot as plt\n",
        "import matplotlib.pyplot as plt\n",
        "import matplotlib as mlp\n",
        "import numpy as np\n",
        "# part 1a\n",
        "mu_T = 1.835\n",
        "sigma_T = 0.005\n",
        "\n",
        "mu_L = 0.855\n",
        "sigma_L = 0.002\n",
        "\n",
        "T = np.random.normal(mu_T,sigma_T,100)\n",
        "L = np.random.normal(mu_L,sigma_L,100)\n",
        "\n",
        "def func(T,L):\n",
        "    g = L / ((T/(2*np.pi))**2)\n",
        "    return g\n",
        "g = func(T,L)\n",
        "\n",
        "# find the mean\n",
        "gsum = sum(g)\n",
        "print(\"sum of g values: \", gsum)\n",
        "\n",
        "mean_g = gsum / 100\n",
        "print(\"mean g is: \", mean_g)\n",
        "\n",
        "# find SD\n",
        "def func1(g):\n",
        "    x = g - mean_g\n",
        "    return x\n",
        "x = func1(g)\n",
        "\n",
        "def func2(x):\n",
        "    y = x**2\n",
        "    return y\n",
        "y = func2(x)\n",
        "\n",
        "ysum = sum(y)\n",
        "SD = np.sqrt(ysum/100)\n",
        "print('SD of g is: ',SD)\n",
        "\n",
        "print('the numpy code gives mean = ', np.mean(g))\n",
        "print('the numpy code gives SD = ', np.std(g))\n",
        "\n",
        "plt.hist(g,bins=10,density=True,label='g values')\n",
        "plt.legend()\n",
        "plt.show()\n"
      ]
    },
    {
      "cell_type": "code",
      "source": [
        "import matplotlib.pyplot as plt\n",
        "import matplotlib as mlp\n",
        "import numpy as np\n",
        "# part 1b\n",
        "T1 = np.random.normal(mu_T,sigma_T,100000)\n",
        "L1 = np.random.normal(mu_L,sigma_L,100000)\n",
        "\n",
        "def func(T,L):\n",
        "    g = L1 / ((T1/(2*np.pi))**2)\n",
        "    return g\n",
        "g = func(T1,L1)\n",
        "z = np.linspace(mean_g - 0.5, mean_g + 0.5)\n",
        "w = 1/np.sqrt(2*np.pi*SD**2) * np.exp(-0.5*(z-mean_g)**2/SD**2)\n",
        "plt.hist(g,bins=100,density=True,label='sampling')\n",
        "plt.plot(z,w,label='normal distribution')\n",
        "plt.legend()\n",
        "plt.show()"
      ],
      "metadata": {
        "id": "JRlPzG8i6UyZ",
        "outputId": "9a293bed-0614-49f7-9356-136673584c60",
        "colab": {
          "base_uri": "https://localhost:8080/",
          "height": 267
        }
      },
      "execution_count": 2,
      "outputs": [
        {
          "output_type": "display_data",
          "data": {
            "image/png": "[encoded data removed]",
            "text/plain": [
              "<Figure size 432x288 with 1 Axes>"
            ]
          },
          "metadata": {
            "needs_background": "light"
          }
        }
      ]
    },
    {
      "cell_type": "markdown",
      "metadata": {
        "id": "SffP_EMB6Ej6"
      },
      "source": [
        "## <font color=#46769B>Part 2: Pendulum continued</font>\n",
        "\n",
        "Here we will consider the same example with an extra source of systematic error.\n",
        "\n",
        "Suppose we learn that the timing setup used for measuring the period $T$ may suffer from a uniform time delay $\\delta T$ from starting and stopping. That is, oscillation formula becomes\n",
        "$$T_0 = 2\\pi \\sqrt{L/g}$$\n",
        "where $T_0 = T + \\delta T$ is the *true* oscillation period and $T$ is the quantity we measure (given above). \n",
        "\n",
        "Suppose we know that $\\delta T$ is between $0-0.05$ s, but is otherwise unknown and all values in this range are equally likely. It makes sense to sample $\\delta T$ from a uniform distribution in the range $[0,0.05]$. (That is, you will sample $T_0$ as the *sum* of a normally-distributed variable $T$ and a uniformly sampled variable $\\delta T$.)\n",
        "\n",
        "- Using the values quoted above for $T$ and $L$, and including $\\delta T$ in your analysis, determine the mean value and uncertainty for $g$ (choose $N$ large enough so that these values have converged).\n",
        "\n",
        "- Compare your histogram for $g$ to a normal distribution of mean $\\mu=\\langle g \\rangle$ and standard deviation $\\sigma = \\Delta g$. (Make a plot of the normal distribution on top of the histogram. Be sure to normalize your histogram and choose a suitable number of bins.)"
      ]
    },
    {
      "cell_type": "code",
      "execution_count": 3,
      "metadata": {
        "id": "AT-rf-X96Ej7",
        "outputId": "94f1b8ad-7f4a-4837-87ab-e30a25d55d84",
        "colab": {
          "base_uri": "https://localhost:8080/",
          "height": 300
        }
      },
      "outputs": [
        {
          "output_type": "stream",
          "name": "stdout",
          "text": [
            "the mean g with the systematic error is:  9.385361906181048\n",
            "the SD with systematic error is:  0.05417803521946409\n"
          ]
        },
        {
          "output_type": "display_data",
          "data": {
            "image/png": "[encoded data removed]",
            "text/plain": [
              "<Figure size 432x288 with 1 Axes>"
            ]
          },
          "metadata": {
            "needs_background": "light"
          }
        }
      ],
      "source": [
        "# Your answer to exercise 2 here\n",
        "import matplotlib.pyplot as plt\n",
        "import matplotlib as mlp\n",
        "import numpy as np\n",
        "# part 2\n",
        "delta_T = 0.5 * np.random.rand(1)\n",
        "\n",
        "T_naught = T1 + delta_T\n",
        "\n",
        "def g(T_naught,L1):\n",
        "    g = L1 / ((T_naught / (2 * np.pi)) ** 2)\n",
        "    return g\n",
        "systematic_g = g(T_naught,L1)\n",
        "mean_systematic_g = np.mean(systematic_g)\n",
        "print('the mean g with the systematic error is: ',mean_systematic_g)\n",
        "SD_systematic_g = np.std(systematic_g)\n",
        "print('the SD with systematic error is: ',SD_systematic_g)\n",
        "\n",
        "a = np.linspace(mean_systematic_g - 0.3, mean_systematic_g + 0.3)\n",
        "b = 1/np.sqrt(2*np.pi*SD_systematic_g**2) * \\\n",
        "np.exp(-0.5*(a-mean_systematic_g)**2/SD_systematic_g**2)\n",
        "plt.hist(systematic_g,bins=100,density=True,label='systematic error sampling')\n",
        "plt.plot(a,b,label='systematic error normal distribution')\n",
        "plt.legend()\n",
        "plt.show()"
      ]
    }
  ],
  "metadata": {
    "kernelspec": {
      "display_name": "Python 3",
      "language": "python",
      "name": "python3"
    },
    "language_info": {
      "codemirror_mode": {
        "name": "ipython",
        "version": 3
      },
      "file_extension": ".py",
      "mimetype": "text/x-python",
      "name": "python",
      "nbconvert_exporter": "python",
      "pygments_lexer": "ipython3",
      "version": "3.7.6"
    },
    "colab": {
      "name": "Exercise 1 - Normal distributions.ipynb",
      "provenance": []
    }
  },
  "nbformat": 4,
  "nbformat_minor": 0
}