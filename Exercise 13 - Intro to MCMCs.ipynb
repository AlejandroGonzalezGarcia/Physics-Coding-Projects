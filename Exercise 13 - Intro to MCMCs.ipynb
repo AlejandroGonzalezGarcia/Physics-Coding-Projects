{
  "cells": [
    {
      "cell_type": "markdown",
      "metadata": {
        "id": "XN4TpPJyFTa6"
      },
      "source": [
        "__Alejandro Gonzalez Garcia__\n",
        "<br>\n",
        "Date: Feb. 9, 2022\n",
        "<br>\n",
        "PHYS 2030 W22"
      ]
    },
    {
      "cell_type": "markdown",
      "metadata": {
        "id": "BVhd6bxUFTbA"
      },
      "source": [
        "# <center><font color=#46769B>Exercise 13: Introduction to MCMCs</font></center>\n",
        "\n",
        "## <font color=#46769B>Introduction</font>\n",
        "\n",
        "You will \n",
        "\n",
        "Our goals for this notebook are:\n",
        "- Gain familiarity with MCMC methods.\n",
        "- Implement a simple MCMC for a Bernoulli distribution using the Metropolis algorithm.\n",
        "\n",
        "Required reading:\n",
        "- *Lesson 6: Markov Chain Monte Carlo*\n",
        "\n"
      ]
    },
    {
      "cell_type": "markdown",
      "metadata": {
        "id": "vNEWH9ovFTbB"
      },
      "source": [
        "## <font color=#46769B>Exercise</font>\n",
        "\n",
        "Suppose we have a Bernoulli distribution (a single coin flip) with probability $p$ for heads $(x=1)$ and probability $1-p$ for tails $(x=0)$. The probability is\n",
        "$$P(x) = \\left\\{ \\begin{array}{cl} p & x=1  \\\\ 1-p & x=0  \\end{array} \\right. \\, .$$\n",
        "Let $p=0.7$.\n",
        "\n",
        "Use the Metropolis algorithm to generate a chain of $N=10^5$ samples from $P(x)$, similar to the example code provided in Lesson 6. However, generalize the code to take the following transition probabilities:\n",
        "$$Q(x|0) = \\left\\{ \\begin{array}{cl} q & x=1  \\\\ 1-q & x=0 \\end{array} \\right. \\, , \\qquad \n",
        "Q(x|1) = \\left\\{ \\begin{array}{cl} 1-q & x=1  \\\\ q & x=0 \\end{array} \\right. \\, .$$\n",
        "where $q = 0.4$.\n",
        "\n",
        "Verify that your estimates for $\\langle x \\rangle$ and $\\Delta x$ agree, respectively, with the true mean $\\mu$ and standard deviation $\\sigma$ for $P(x)$.\n",
        "\n",
        "### <font color=#46769B>Hint</font>\n",
        "\n",
        "It may be helpful to define $Q$ as a matrix `Q = [[0.6, 0.4],[0.4,0.6]]`, such that, e.g., $Q(0|0)$ corresponds to `Q[0,0]`."
      ]
    },
    {
      "cell_type": "code",
      "execution_count": 2,
      "metadata": {
        "id": "5wfmP-tgFTbC",
        "outputId": "106239f8-3d6d-4845-e3d3-5cbcdec68d09",
        "colab": {
          "base_uri": "https://localhost:8080/"
        }
      },
      "outputs": [
        {
          "output_type": "stream",
          "name": "stdout",
          "text": [
            "input heads or tails (0 or 1): 1\n",
            "the true mean is 0.7\n",
            "our estimated mean is 0.77849\n",
            "the true standard deviation is 0.45825756949558405\n",
            "our estimated standard deviation is 0.4152629527179134\n"
          ]
        }
      ],
      "source": [
        "import numpy as np\n",
        "import matplotlib.pyplot as plt\n",
        "\n",
        "p = 0.7\n",
        "P = [1-p, p]\n",
        "# let heads be denoted by p (1) and tails by p-1 (0)\n",
        "num = 10**5\n",
        "\n",
        "q = 0.4  # probability of getting heads\n",
        "\n",
        "\n",
        "#  start with initial result (either heads or tails)\n",
        "x = input('input heads or tails (0 or 1): ')\n",
        "x = int(x)\n",
        "\n",
        "x_samples = [x]\n",
        "\n",
        "\n",
        "for i in range(num-1):\n",
        "    if x == 0:\n",
        "        x_old = x_samples[i]\n",
        "        x_new = np.random.choice([0,1],p=[0.6,0.4])\n",
        "        A = P[x_new] / P[x_old]\n",
        "        if A > 1:\n",
        "            x_samples.append(x_new)\n",
        "        else:\n",
        "            r = np.random.rand()\n",
        "            if r < A:\n",
        "                x_samples.append(x_new)\n",
        "            else:\n",
        "                x_samples.append(x_old)\n",
        "    else:\n",
        "        x_old = x_samples[i]\n",
        "        x_new = np.random.choice([0,1],p=[0.4,0.6])\n",
        "        A = P[x_new] / P[x_old]\n",
        "        if A > 1:\n",
        "            x_samples.append(x_new)\n",
        "        else:\n",
        "            r = np.random.rand()\n",
        "            if r < A:\n",
        "                x_samples.append(x_new)\n",
        "            else:\n",
        "                x_samples.append(x_old)\n",
        "\n",
        "\n",
        "print('the true mean is', p)\n",
        "print('our estimated mean is', np.mean(x_samples))\n",
        "print('the true standard deviation is', np.sqrt(p*(1-p)))\n",
        "print('our estimated standard deviation is', np.std(x_samples))"
      ]
    }
  ],
  "metadata": {
    "kernelspec": {
      "display_name": "Python 3",
      "language": "python",
      "name": "python3"
    },
    "language_info": {
      "codemirror_mode": {
        "name": "ipython",
        "version": 3
      },
      "file_extension": ".py",
      "mimetype": "text/x-python",
      "name": "python",
      "nbconvert_exporter": "python",
      "pygments_lexer": "ipython3",
      "version": "3.7.6"
    },
    "colab": {
      "name": "Exercise 13 - Intro to MCMCs.ipynb",
      "provenance": []
    }
  },
  "nbformat": 4,
  "nbformat_minor": 0
}