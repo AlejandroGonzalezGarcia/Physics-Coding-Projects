{
  "cells": [
    {
      "cell_type": "markdown",
      "metadata": {
        "id": "ELJ94vpelfW3"
      },
      "source": [
        "__Alejandro Gonzalez Garcia__\n",
        "<br>\n",
        "Date: Feb. 28, 2022\n",
        "<br>\n",
        "PHYS 2030 W22"
      ]
    },
    {
      "cell_type": "markdown",
      "metadata": {
        "id": "zZhfscBClfW7"
      },
      "source": [
        "# <center><font color=#46769B>Exercise 18: Pendulum</font></center>\n",
        "\n",
        "## <font color=#46769B>Introduction</font>\n",
        "\n",
        "An ideal simple pendulum consists of a rigid rod of length $\\ell$, with a mass at one end and a frictionless pivot at the other end, such that the pendulum is free to oscillate in the vertical plane under the influence of gravity, with gravitational acceleration $g$. The equation of motion is\n",
        "\n",
        "$$\\theta''(t) + \\omega^2 \\, \\sin\\theta(t) = 0$$\n",
        "\n",
        "where $t$ is time, $\\theta(t)$ is the angle of displacement from the vertical axis (where $\\theta = 0$ corresponds to the pendulum oriented straight downward), and $\\omega = \\sqrt{g/\\ell}$. \n",
        "\n",
        "For small-angle oscillations, it suffices to take the small-angle approximation, $\\theta \\ll 1$, which yields the equation of motion\n",
        "$$\\theta''(t) + \\omega^2 \\, \\theta(t) = 0 \\, .$$\n",
        "In this case, the pendulum undergoes sinusoidal motion with period $T = 2\\pi/\\omega$.\n",
        "\n",
        "If the amplitude of oscillation is not small, the pendulum is an *anharmonic oscillator* and in general can only be solved numerically. (Well, actually, an exact solution can be given in terms of special functions or a power series. Here is a [reference](https://arxiv.org/pdf/2108.09395.pdf), or you can [watch a video](https://www.youtube.com/watch?v=efvT2iUSjaA)).\n",
        "In this case, the pendulum's motion is still periodic, but it is no longer sinusoidal. The period $T$ is no longer simply $2\\pi/T$, but depends on the amplitude of the pendulum's displacement.\n",
        "\n",
        "The goals of this exercise are:\n",
        "- Solve the equation of motion for a pendulum\n",
        "- Gain experience with the Euler method\n",
        "\n",
        "Required reading:\n",
        "- *Lesson 9: Euler method*\n"
      ]
    },
    {
      "cell_type": "markdown",
      "metadata": {
        "id": "Zry8hjUAlfW9"
      },
      "source": [
        "## <font color=#46769B>Part (a)</font>\n",
        "\n",
        "Consider a pendulum with equation of motion\n",
        "\n",
        "$$\\theta''(t) + \\omega^2 \\sin\\theta(t) = 0 \\, ,$$\n",
        "\n",
        "that starts from rest at $t=0$ with initial displacement $\\theta_0$. That is, the initial condition is \n",
        "\n",
        "$$\\theta(0) = \\theta_0 , \\qquad \\theta'(0) = 0 \\, .$$ \n",
        "\n",
        "Here we will consider $\\theta_0 = 0.01$. Also, for simplicity, set $\\omega = 2\\pi$.\n",
        "\n",
        "Perform the following tasks:\n",
        "- Write a code to perform the (forward) Euler method, with a uniform step-size $h$, for solving for $\\theta(t)$ as a function of $t$, up to a final time $t_f = 5$. Choose the number of steps such that your results converge with relative tolerance `rtol=1e-3` and absolute tolerance `atol=0`. What number of steps was needed?\n",
        "- Determine $\\theta(t)$, over the same range for $t$, using `scipy.integrate.solve_ivp`.\n",
        "- Make a single plot showing both numerical solutions for $\\theta(t)$, along with the analytic solution in the small-angle limit $\\theta(t) = \\theta_0 \\, \\cos(\\omega t)$.\n"
      ]
    },
    {
      "cell_type": "code",
      "execution_count": null,
      "metadata": {
        "id": "oKJno8VFlfW-",
        "outputId": "0219e228-6b71-42bb-b7e8-d55f45706d9d",
        "colab": {
          "base_uri": "https://localhost:8080/"
        }
      },
      "outputs": [
        {
          "output_type": "stream",
          "name": "stdout",
          "text": [
            "Not converged yet. Trying 200 steps.\n",
            "Not converged yet. Trying 400 steps.\n",
            "Not converged yet. Trying 800 steps.\n",
            "Not converged yet. Trying 1600 steps.\n",
            "Not converged yet. Trying 3200 steps.\n",
            "Not converged yet. Trying 6400 steps.\n",
            "Not converged yet. Trying 12800 steps.\n",
            "Not converged yet. Trying 25600 steps.\n",
            "Not converged yet. Trying 51200 steps.\n",
            "Not converged yet. Trying 102400 steps.\n",
            "Not converged yet. Trying 204800 steps.\n",
            "Not converged yet. Trying 409600 steps.\n",
            "Not converged yet. Trying 819200 steps.\n",
            "Not converged yet. Trying 1638400 steps.\n",
            "Not converged yet. Trying 3276800 steps.\n",
            "Not converged yet. Trying 6553600 steps.\n"
          ]
        }
      ],
      "source": [
        "import numpy as np\n",
        "import matplotlib.pyplot as plt\n",
        "\n",
        "omega = 2*np.pi\n",
        "\n",
        "\n",
        "def f(t,theta):\n",
        "  theta_1, theta_2 = theta \n",
        "  return np.array([np.sin(theta_2), omega**2 * np.sin(theta_1)])\n",
        "\n",
        "\n",
        "theta_0 = np.array([0.01, 0])\n",
        "t0, tf = 0, 5\n",
        "def euler_method(num_steps):\n",
        "  \n",
        "  t = np.linspace(t0, tf, num=num_steps+1)\n",
        "  h = t[1] - t[0]\n",
        "\n",
        "  theta = np.zeros((num_steps+1,2))\n",
        "  theta[0] = theta_0\n",
        "\n",
        "  for i in range(num_steps):\n",
        "    ti = t[i]\n",
        "    thetai = theta[i]\n",
        "    theta[i+1] = thetai + h * f(ti, thetai)\n",
        "  return t, theta\n",
        "\n",
        "\n",
        "\n",
        "num_steps = 100\n",
        "\n",
        "t, theta_old = euler_method(num_steps)\n",
        "\n",
        "not_converged_yet = True \n",
        "\n",
        "while not_converged_yet:\n",
        "  num_steps = 2*num_steps\n",
        "  print('Not converged yet. Trying', num_steps, 'steps.')\n",
        "  t, theta_new = euler_method(num_steps)\n",
        "  not_converged_yet = not(np.allclose(theta_old,theta_new[::2],atol=1e-6,rtol=1e-3))\n",
        "  theta_old = theta_new\n"
      ]
    },
    {
      "cell_type": "markdown",
      "metadata": {
        "id": "sT_yS06OlfXA"
      },
      "source": [
        "## <font color=#46769B>Part (b)</font>\n",
        "\n",
        "In part (a), since $\\theta_0$ was small, you should have found good agreement with the analyic solution describing sinusoidal oscillation. Now, consider two larger values of $\\theta_0$, $\\theta_0=1$ and $\\theta_0 = 3$. Repeat the steps of part (a) for these values. Make separate plots for each value of $\\theta_0$.\n"
      ]
    },
    {
      "cell_type": "code",
      "execution_count": null,
      "metadata": {
        "id": "Jyt6gQfjlfXB"
      },
      "outputs": [],
      "source": [
        "# Your code here"
      ]
    },
    {
      "cell_type": "markdown",
      "metadata": {
        "id": "M2ToYaWelfXB"
      },
      "source": [
        "## <font color=#46769B>Part (c)</font>\n",
        "\n",
        "The goal is to determine numerically $T(\\theta_0)$, that is, how the oscillation period depends on the initial displacement $\\theta$.\n",
        "\n",
        "Given a value of $\\theta_0$, write a code that will perform the following steps:\n",
        "- Perform Euler's method, as in parts (a) and (b), to determine $\\theta(t)$ and $\\theta'(t)$. Choose a large enough number of steps so that your results have converged as in parts (a) and (b).\n",
        "- \"Measure\" the period $T$ from your numerical results. *Hint:* you may consider determining $T$ as the distance in $t$ between maxima in $\\theta(t)$, or twice the distance where $\\theta(t)$ crosses zero. You need to get creative here.\n",
        "- Make a plot of $T$ as a function of $\\theta_0$ for 31 values of $\\theta_0$ in `numpy.linspace(0.1,3.1,31)`.\n",
        "- Analytically, the first few terms in $T(\\theta_0)$ can be written as\n",
        "\n",
        "$$ T(\\theta_0) = \\frac{2\\pi}{\\omega} \\left( 1 + \\frac{1}{16} \\theta_0^2 + \\frac{11}{3072} \\theta_0^4 + \\mathcal{O}(\\theta_0^6) \\right)$$\n",
        "\n",
        "where the leading $1$ is the small-angle result. Plot this formula on your plot to check that it agrees with your results for small and medium values of $\\theta_0$."
      ]
    },
    {
      "cell_type": "code",
      "execution_count": null,
      "metadata": {
        "id": "ENo7gfNDlfXC"
      },
      "outputs": [],
      "source": [
        "# Your code here"
      ]
    },
    {
      "cell_type": "code",
      "execution_count": null,
      "metadata": {
        "id": "oGukf5FnlfXD"
      },
      "outputs": [],
      "source": [
        ""
      ]
    }
  ],
  "metadata": {
    "kernelspec": {
      "display_name": "Python 3",
      "language": "python",
      "name": "python3"
    },
    "language_info": {
      "codemirror_mode": {
        "name": "ipython",
        "version": 3
      },
      "file_extension": ".py",
      "mimetype": "text/x-python",
      "name": "python",
      "nbconvert_exporter": "python",
      "pygments_lexer": "ipython3",
      "version": "3.7.6"
    },
    "colab": {
      "name": "Exercise 18 - Pendulum.ipynb",
      "provenance": []
    }
  },
  "nbformat": 4,
  "nbformat_minor": 0
}