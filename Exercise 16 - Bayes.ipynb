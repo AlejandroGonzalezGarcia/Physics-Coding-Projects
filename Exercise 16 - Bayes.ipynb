{
  "cells": [
    {
      "cell_type": "markdown",
      "metadata": {
        "id": "IH9rFFvfvRUg"
      },
      "source": [
        "\n",
        "\n",
        "```\n",
        "# This is formatted as code\n",
        "```\n",
        "\n",
        "__Alejandro Gonzalez Garcia__\n",
        "<br>\n",
        "Date: Feb. 16, 2022\n",
        "<br>\n",
        "PHYS 2030 W22"
      ]
    },
    {
      "cell_type": "markdown",
      "metadata": {
        "id": "jRmMjXrcvRUj"
      },
      "source": [
        "# <center><font color=#46769B>Exercise 16: More examples for Bayes theorem</font></center>\n",
        "\n",
        "## <font color=#46769B>Introduction</font>\n",
        "\n",
        "\n",
        "Our goals for this notebook are:\n",
        "- Gain experience with Bayes theorem, applied to a continuous variable\n",
        "\n",
        "Required reading:\n",
        "- *Lesson 8: Bayes theorem*\n"
      ]
    },
    {
      "cell_type": "markdown",
      "metadata": {
        "id": "Fj5qhAVbvRUk"
      },
      "source": [
        "## <font color=#46769B>Flipping a coin</font>\n",
        "\n",
        "In Lesson 8, we considered the following example: We have a coin with an unknown probability $p$ for landing on heads. Suppose we flip the coin $n$ times and land on heads each time. Assuming a prior in which all values of $p$ are equally likely, what does that imply for $p$?\n",
        "\n",
        "In this Exercise, we will consider some variations of this example to gain some experience with Bayes theorem.\n",
        "\n",
        "Suppose we have a coin with an unknown probability $p$ and let us assume the following prior for $p$:\n",
        "$$P(p) = \\left\\{ \\begin{array}{cc} 6p(1-p) & {\\rm for} \\; 0 \\le p \\le 1 \\\\ 0 & {\\rm otherwise} \\end{array} \\right. .\n",
        "\\qquad (1)$$\n",
        "We flip the coin $n=3$ times, getting heads each time. The probability of this occurring is \n",
        "$$P(3 \\; {\\rm heads}|p) = p^3 \\, .$$\n",
        "\n",
        "According to Bayes theorem, we can calculate the *posterior PDF* for $p$ given that we obtained $n=3$ heads in a row:\n",
        "$$P(p|3 \\; {\\rm heads}) = \\frac{ P(3 \\; {\\rm heads}|p) \\, P(p)}{P(3 \\; {\\rm heads})} \\, ,$$\n",
        "where the marginalized PDF in the denominator is\n",
        "$$P(3 \\; {\\rm heads}) = \\int dp \\, P(3 \\; {\\rm heads}|p) \\, P(p) = 6 \\int_0^1 dp \\, p^4 (1-p) = \\frac{1}{5} \\, .$$\n",
        "The posterior PDF for $p$ is therefore\n",
        "$$P(p|3 \\; {\\rm heads}) = \\left\\{ \\begin{array}{cc} 5 p^4 (1-p) & {\\rm for} \\; 0 \\le p \\le 1 \\\\ 0 & {\\rm otherwise} \\end{array} \\right. \\, . \\qquad (2) $$\n"
      ]
    },
    {
      "cell_type": "markdown",
      "metadata": {
        "id": "zh4QYSegvRUl"
      },
      "source": [
        "## <font color=#46769B>Part (a)</font>\n",
        "\n",
        "Write a code to check Eq. (2) by Monte Carlo sampling. Perform the following steps:\n",
        "- Generate $N=10^6$ samples for $p$ from $P(p)$ by performing an MCMC simulation using the Metropolis algorithm.\n",
        "- Each sample $p$ represents one coin. Following the example in Lesson 8, \"flip\" each coin $n=3$ times and save the results to an array `landed_on_heads_n_times` that records `1` if the coin landed on heads $n=3$ times and `0` otherwise.\n",
        "- Generate a 1D histogram of values of $p$ that landed on heads $n=3$ times (follow the example in Lesson 8).\n",
        "- Plot $P(p|3 \\; {\\rm heads})$ in Eq. (2) directly on top of your histogram to compare.\n",
        "- Determine the *quartiles* for $p$ for those coins that landed on heads $n=3$ times, i.e., determine $p_{25}$, $p_{50}$, and $p_{75}$ (see Lesson 3)."
      ]
    },
    {
      "cell_type": "code",
      "execution_count": 1,
      "metadata": {
        "id": "2-EI1WY_vRUn",
        "outputId": "1092b679-dd92-4d5c-ab94-e6dde8af9b9a",
        "colab": {
          "base_uri": "https://localhost:8080/",
          "height": 317
        }
      },
      "outputs": [
        {
          "output_type": "display_data",
          "data": {
            "image/png": "[encoded data removed]",
            "text/plain": [
              "<Figure size 432x288 with 1 Axes>"
            ]
          },
          "metadata": {
            "needs_background": "light"
          }
        },
        {
          "output_type": "stream",
          "name": "stdout",
          "text": [
            "the 25th quantile is 0.6107859464601648\n",
            "the 50th quantile is 0.7361107414490449\n",
            "the 75th quantile is 0.8386021544706007\n"
          ]
        }
      ],
      "source": [
        "import numpy as np\n",
        "import matplotlib.pyplot as plt\n",
        "\n",
        "def P(p):\n",
        "    return np.where((p>=0) & (p<=1), 6*p*(1-p), 0)\n",
        "\n",
        "# sample values of p\n",
        "\n",
        "num = 10**6\n",
        "\n",
        "p0 = 0.5\n",
        "sigma_q = 0.5\n",
        "\n",
        "p_samples = [p0]\n",
        "\n",
        "for i in range(num-1):\n",
        "    p_old = p_samples[i]\n",
        "    p_new = np.random.normal(p_old,sigma_q)\n",
        "    A = P(p_new)/P(p_old)\n",
        "    if A > 1:\n",
        "        p_samples.append(p_new)\n",
        "    else:\n",
        "        r = np.random.rand()\n",
        "        if A > r:\n",
        "            p_samples.append(p_new)\n",
        "        else:\n",
        "            p_samples.append(p_old)\n",
        "\n",
        "\n",
        "n = 3\n",
        "r = np.random.rand(num)\n",
        "p_samples = np.array(p_samples)\n",
        "\n",
        "\n",
        "\n",
        "landed_on_heads_n_times = np.where(r < p_samples**n, 1, 0)\n",
        "\n",
        "plt.hist(p_samples,weights=landed_on_heads_n_times,density=True,bins=30,label='sampling')\n",
        "\n",
        "x = np.linspace(0,1)\n",
        "y = 5 * x**4 * (1-x)\n",
        "plt.plot(x,y,label='posterior pdf')\n",
        "plt.legend()\n",
        "plt.show()\n",
        "\n",
        "\n",
        "# get an array with only p_samples that landed on heads 3 times\n",
        "z = p_samples * landed_on_heads_n_times\n",
        "landed_on_heads = []\n",
        "for i in range(len(z)):\n",
        "    if z[i] != 0:\n",
        "        landed_on_heads.append(z[i])\n",
        "\n",
        "\n",
        "# quantiles for p_samples that landed on heads 3 times\n",
        "print('the 25th quantile is', np.quantile(landed_on_heads,0.25))\n",
        "print('the 50th quantile is', np.quantile(landed_on_heads,0.50))\n",
        "print('the 75th quantile is', np.quantile(landed_on_heads,0.75))"
      ]
    },
    {
      "cell_type": "markdown",
      "metadata": {
        "id": "n_robmHqvRUp"
      },
      "source": [
        "## <font color=#46769B>Part (b)</font>\n",
        "\n",
        "Of course, if you are able to know the posterior PDF ahead to time, it is better just to sample from that!\n",
        "\n",
        "Write a code to generate $N=10^6$ samples for $p$ from the posterior PDF in Eq. (2) by performing an MCMC simulation using the Metropolis algorithm. (There is no need to \"flip\" any coins here. You are sampling from the posterior, so all coins have been flipped and landed on heads the required number of times by assumption.)\n",
        "- Plot a 1D histogram for values of $p$ (no weights are needed here).\n",
        "- Compute the quartiles for $p$.\n",
        "- Compare your results to part (a)."
      ]
    },
    {
      "cell_type": "code",
      "execution_count": 2,
      "metadata": {
        "id": "ZHGO-NIzvRUq",
        "outputId": "7cd8a645-d2b1-425a-b5b8-ac877e5cae40",
        "colab": {
          "base_uri": "https://localhost:8080/",
          "height": 334
        }
      },
      "outputs": [
        {
          "output_type": "stream",
          "name": "stdout",
          "text": [
            "the 25th quantile is 0.6100216685165143\n",
            "the 50th quantile is 0.7350495186944587\n",
            "the 75th quantile is 0.8388973259221261\n",
            "the answers from b and a are very similar.\n"
          ]
        },
        {
          "output_type": "display_data",
          "data": {
            "image/png": "[encoded data removed]",
            "text/plain": [
              "<Figure size 432x288 with 1 Axes>"
            ]
          },
          "metadata": {
            "needs_background": "light"
          }
        }
      ],
      "source": [
        "num = 10**6\n",
        "def P(p):\n",
        "    return np.where((p >= 0) & (p <= 1), 5*p**4 * (1-p), 0)\n",
        "\n",
        "p0 = 0.75\n",
        "sigma_q = 0.5\n",
        "\n",
        "p_samples = [p0]\n",
        "\n",
        "for i in range(num-1):\n",
        "    p_old = p_samples[i]\n",
        "    p_new = np.random.normal(p_old,sigma_q)\n",
        "    A = P(p_new)/P(p_old)\n",
        "    if A > 1:\n",
        "        p_samples.append(p_new)\n",
        "    else:\n",
        "        r = np.random.rand()\n",
        "        if A > r:\n",
        "            p_samples.append(p_new)\n",
        "        else:\n",
        "            p_samples.append(p_old)\n",
        "\n",
        "plt.hist(p_samples,density=True,bins=30)\n",
        "\n",
        "print('the 25th quantile is', np.quantile(p_samples,0.25))\n",
        "print('the 50th quantile is', np.quantile(p_samples,0.50))\n",
        "print('the 75th quantile is', np.quantile(p_samples,0.75))\n",
        "\n",
        "print('the answers from b and a are very similar.')"
      ]
    }
  ],
  "metadata": {
    "kernelspec": {
      "display_name": "Python 3",
      "language": "python",
      "name": "python3"
    },
    "language_info": {
      "codemirror_mode": {
        "name": "ipython",
        "version": 3
      },
      "file_extension": ".py",
      "mimetype": "text/x-python",
      "name": "python",
      "nbconvert_exporter": "python",
      "pygments_lexer": "ipython3",
      "version": "3.7.6"
    },
    "colab": {
      "name": "Exercise 16 - Bayes.ipynb",
      "provenance": []
    }
  },
  "nbformat": 4,
  "nbformat_minor": 0
}